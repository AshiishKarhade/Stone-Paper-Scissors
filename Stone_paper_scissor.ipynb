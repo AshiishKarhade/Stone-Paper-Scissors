{
 "cells": [
  {
   "cell_type": "code",
   "execution_count": 2,
   "metadata": {},
   "outputs": [],
   "source": [
    "import keras\n",
    "import tensorflow"
   ]
  },
  {
   "cell_type": "code",
   "execution_count": null,
   "metadata": {},
   "outputs": [],
   "source": [
    "# Disable scientific notation for clarity\n",
    "\n",
    "# Load the model\n",
    "model = tensorflow.keras.models.load_model('keras_model.h5')\n",
    "\n",
    "# Create the array of the right shape to feed into the keras model\n",
    "# The 'length' or number of images you can put into the array is\n",
    "# determined by the first position in the shape tuple, in this case 1.\n",
    "data = np.ndarray(shape=(1, 224, 224, 3), dtype=np.float32)\n",
    "\n",
    "# Replace this with the path to your image\n",
    "image = Image.open('test_photo.jpg')\n",
    "\n",
    "#resize the image to a 224x224 with the same strategy as in TM2:\n",
    "#resizing the image to be at least 224x224 and then cropping from the center\n",
    "size = (224, 224)\n",
    "image = ImageOps.fit(image, size, Image.ANTIALIAS)\n",
    "\n",
    "#turn the image into a numpy array\n",
    "image_array = np.asarray(image)\n",
    "\n",
    "# display the resized image\n",
    "image.show()\n",
    "\n",
    "# Normalize the image\n",
    "normalized_image_array = (image_array.astype(np.float32) / 127.0) - 1\n",
    "\n",
    "# Load the image into the array\n",
    "data[0] = normalized_image_array\n",
    "\n",
    "# run the inference\n",
    "prediction = model.predict(data)\n",
    "print(prediction)\n",
    "\n"
   ]
  },
  {
   "cell_type": "code",
   "execution_count": 3,
   "metadata": {},
   "outputs": [],
   "source": [
    "import tensorflow.keras\n",
    "from PIL import Image, ImageOps\n",
    "import numpy as np"
   ]
  },
  {
   "cell_type": "code",
   "execution_count": 4,
   "metadata": {},
   "outputs": [],
   "source": [
    "np.set_printoptions(suppress=True)"
   ]
  },
  {
   "cell_type": "code",
   "execution_count": 5,
   "metadata": {},
   "outputs": [
    {
     "name": "stdout",
     "output_type": "stream",
     "text": [
      "WARNING:tensorflow:No training configuration found in save file: the model was *not* compiled. Compile it manually.\n"
     ]
    }
   ],
   "source": [
    "# Load the model\n",
    "model = tensorflow.keras.models.load_model('keras_model.h5')"
   ]
  },
  {
   "cell_type": "code",
   "execution_count": 6,
   "metadata": {},
   "outputs": [],
   "source": [
    "data = np.ndarray(shape=(1, 224, 224, 3), dtype=np.float32)"
   ]
  },
  {
   "cell_type": "code",
   "execution_count": 7,
   "metadata": {},
   "outputs": [
    {
     "name": "stdout",
     "output_type": "stream",
     "text": [
      "WARNING:tensorflow:No training configuration found in save file: the model was *not* compiled. Compile it manually.\n"
     ]
    },
    {
     "ename": "KeyboardInterrupt",
     "evalue": "",
     "output_type": "error",
     "traceback": [
      "\u001b[0;31m---------------------------------------------------------------------------\u001b[0m",
      "\u001b[0;31mKeyboardInterrupt\u001b[0m                         Traceback (most recent call last)",
      "\u001b[0;32m<ipython-input-7-b64bb193cb94>\u001b[0m in \u001b[0;36m<module>\u001b[0;34m\u001b[0m\n\u001b[1;32m     46\u001b[0m \u001b[0;34m\u001b[0m\u001b[0m\n\u001b[1;32m     47\u001b[0m \u001b[0;32mwhile\u001b[0m \u001b[0;32mTrue\u001b[0m\u001b[0;34m:\u001b[0m\u001b[0;34m\u001b[0m\u001b[0;34m\u001b[0m\u001b[0m\n\u001b[0;32m---> 48\u001b[0;31m     \u001b[0mret\u001b[0m\u001b[0;34m,\u001b[0m \u001b[0mframe\u001b[0m \u001b[0;34m=\u001b[0m \u001b[0mcap\u001b[0m\u001b[0;34m.\u001b[0m\u001b[0mread\u001b[0m\u001b[0;34m(\u001b[0m\u001b[0;34m)\u001b[0m\u001b[0;34m\u001b[0m\u001b[0;34m\u001b[0m\u001b[0m\n\u001b[0m\u001b[1;32m     49\u001b[0m     \u001b[0;32mif\u001b[0m \u001b[0;32mnot\u001b[0m \u001b[0mret\u001b[0m\u001b[0;34m:\u001b[0m\u001b[0;34m\u001b[0m\u001b[0;34m\u001b[0m\u001b[0m\n\u001b[1;32m     50\u001b[0m         \u001b[0;32mcontinue\u001b[0m\u001b[0;34m\u001b[0m\u001b[0;34m\u001b[0m\u001b[0m\n",
      "\u001b[0;31mKeyboardInterrupt\u001b[0m: "
     ]
    }
   ],
   "source": [
    "from keras.models import load_model\n",
    "import cv2\n",
    "import numpy as np\n",
    "from random import choice\n",
    "\n",
    "REV_CLASS_MAP = {\n",
    "    0: \"rock\",\n",
    "    1: \"paper\",\n",
    "    2: \"scissors\",\n",
    "    3: \"none\"\n",
    "}\n",
    "\n",
    "\n",
    "def mapper(val):\n",
    "    return REV_CLASS_MAP[val]\n",
    "\n",
    "\n",
    "def calculate_winner(move1, move2):\n",
    "    if move1 == move2:\n",
    "        return \"Tie\"\n",
    "\n",
    "    if move1 == \"rock\":\n",
    "        if move2 == \"scissors\":\n",
    "            return \"User\"\n",
    "        if move2 == \"paper\":\n",
    "            return \"Computer\"\n",
    "\n",
    "    if move1 == \"paper\":\n",
    "        if move2 == \"rock\":\n",
    "            return \"User\"\n",
    "        if move2 == \"scissors\":\n",
    "            return \"Computer\"\n",
    "\n",
    "    if move1 == \"scissors\":\n",
    "        if move2 == \"paper\":\n",
    "            return \"User\"\n",
    "        if move2 == \"rock\":\n",
    "            return \"Computer\"\n",
    "\n",
    "\n",
    "model = tensorflow.keras.models.load_model('keras_model.h5')\n",
    "\n",
    "cap = cv2.VideoCapture()\n",
    "\n",
    "prev_move = None\n",
    "\n",
    "while True:\n",
    "    ret, frame = cap.read()\n",
    "    if not ret:\n",
    "        continue\n",
    "\n",
    "    # rectangle for user to play\n",
    "    cv2.rectangle(frame, (100, 100), (500, 500), (255, 255, 255), 2)\n",
    "    # rectangle for computer to play\n",
    "    cv2.rectangle(frame, (800, 100), (1200, 500), (255, 255, 255), 2)\n",
    "\n",
    "    # extract the region of image within the user rectangle\n",
    "    roi = frame[100:500, 100:500]\n",
    "    img = cv2.cvtColor(roi, cv2.COLOR_BGR2RGB)\n",
    "    img = cv2.resize(img, (224, 224))\n",
    "\n",
    "    # predict the move made\n",
    "    pred = model.predict(np.array([img]))\n",
    "    move_code = np.argmax(pred[0])\n",
    "    user_move_name = mapper(move_code)\n",
    "\n",
    "    # predict the winner (human vs computer)\n",
    "    if prev_move != user_move_name:\n",
    "        if user_move_name != \"none\":\n",
    "            computer_move_name = choice(['rock', 'paper', 'scissors'])\n",
    "            winner = calculate_winner(user_move_name, computer_move_name)\n",
    "        else:\n",
    "            computer_move_name = \"none\"\n",
    "            winner = \"Waiting...\"\n",
    "    prev_move = user_move_name\n",
    "\n",
    "    # display the information\n",
    "    font = cv2.FONT_HERSHEY_SIMPLEX\n",
    "    cv2.putText(frame, \"Your Move: \" + user_move_name,\n",
    "                (50, 50), font, 1.2, (255, 255, 255), 2, cv2.LINE_AA)\n",
    "    cv2.putText(frame, \"Computer's Move: \" + computer_move_name,\n",
    "                (750, 50), font, 1.2, (255, 255, 255), 2, cv2.LINE_AA)\n",
    "    cv2.putText(frame, \"Winner: \" + winner,\n",
    "                (400, 600), font, 2, (0, 0, 255), 4, cv2.LINE_AA)\n",
    "\n",
    "    if computer_move_name != \"none\":\n",
    "        icon = cv2.imread(\"images/{}.png\".format(computer_move_name))\n",
    "        icon = cv2.resize(icon, (400, 400))\n",
    "        frame[100:500, 800:1200] = icon\n",
    "\n",
    "    cv2.imshow(\"Rock Paper Scissors\", frame)\n",
    "\n",
    "    k = cv2.waitKey(10)\n",
    "    if k == ord('q'):\n",
    "        break\n",
    "\n",
    "cap.release()\n",
    "cv2.destroyAllWindows()"
   ]
  },
  {
   "cell_type": "code",
   "execution_count": 9,
   "metadata": {},
   "outputs": [
    {
     "name": "stdout",
     "output_type": "stream",
     "text": [
      "Traceback (most recent call last):\r\n",
      "  File \"script.py\", line 1, in <module>\r\n",
      "    import keras\r\n",
      "ImportError: No module named keras\r\n"
     ]
    }
   ],
   "source": [
    "!python script.py"
   ]
  },
  {
   "cell_type": "code",
   "execution_count": null,
   "metadata": {},
   "outputs": [],
   "source": []
  }
 ],
 "metadata": {
  "kernelspec": {
   "display_name": "Python 3",
   "language": "python",
   "name": "python3"
  },
  "language_info": {
   "codemirror_mode": {
    "name": "ipython",
    "version": 3
   },
   "file_extension": ".py",
   "mimetype": "text/x-python",
   "name": "python",
   "nbconvert_exporter": "python",
   "pygments_lexer": "ipython3",
   "version": "3.7.4"
  }
 },
 "nbformat": 4,
 "nbformat_minor": 2
}
